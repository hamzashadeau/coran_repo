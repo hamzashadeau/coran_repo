{
 "cells": [
  {
   "cell_type": "code",
   "execution_count": 20,
   "id": "7d3aff2f",
   "metadata": {},
   "outputs": [],
   "source": [
    "from datetime import datetime\n",
    "from datetime import date\n",
    "\n",
    "import numpy as np\n",
    "import pandas as pd\n",
    "Names = ['ام سلمى','نادية','علي', 'عبد المجيد', 'وجدان', ' أكرم', 'شمس', 'إجلال', 'عبد الله', 'لطيفة','ام سهام', 'محمد','كبيرة','حبيبة', 'مريم','يوسفية', 'جليلة', 'بوشته', 'نهال','ام كوثر', 'مينة', 'ام مصعب', 'سعيدة', 'نجاة', 'سمية', 'أسماء', 'ام بسمة', 'حنان', 'وصال',\n",
    "             'ملاك' ]\n",
    "ahzab = [\"1/2\", \"3/4\", \"5/6\", \"7/8\", \"9/10\", \"11/12\", \"13/14\", \"15/16\", \"17/18\", \"19/20\", \"21/22\", \"23/24\", \"25/26\",\n",
    "             \"27/28\", \"29/30\", \"31/32\", \"33/34\", \"35/36\", \"37/38\", \"39/40\", \"41/42\", \"43/44\", \"45/46\", \"47/48\", \"49/50\",\n",
    "             \"51/52\", \"53/54\", \"55/56\", \"57/58\", \"59/60\"]\n",
    "mon_dictionnaire = np.load('coran_df.npy', allow_pickle='TRUE').item()"
   ]
  },
  {
   "cell_type": "code",
   "execution_count": 21,
   "id": "dd9bfad6",
   "metadata": {},
   "outputs": [],
   "source": [
    "Names = ['ام سلمى','نادية','علي', 'عبد المجيد', 'وجدان', ' أكرم', 'شمس', 'إجلال', 'عبد الله', 'لطيفة','ام سهام', 'محمد','كبيرة','حبيبة', 'مريم','يوسفية', 'جليلة', 'بوشته', 'نهال','ام كوثر', 'مينة', 'ام مصعب', 'سعيدة', 'نجاة', 'سمية', 'أسماء', 'ام بسمة', 'حنان', 'وصال',\n",
    "             'ملاك' ]"
   ]
  },
  {
   "cell_type": "code",
   "execution_count": 11,
   "id": "98c5b022",
   "metadata": {},
   "outputs": [
    {
     "data": {
      "text/plain": [
       "'سعيدة'"
      ]
     },
     "execution_count": 11,
     "metadata": {},
     "output_type": "execute_result"
    }
   ],
   "source": [
    "mon_dictionnaire['45/46']"
   ]
  },
  {
   "cell_type": "code",
   "execution_count": 22,
   "id": "0482e42e",
   "metadata": {},
   "outputs": [
    {
     "data": {
      "text/plain": [
       "['ام سلمى',\n",
       " 'نادية',\n",
       " 'علي',\n",
       " 'عبد المجيد',\n",
       " 'وجدان',\n",
       " ' أكرم',\n",
       " 'شمس',\n",
       " 'إجلال',\n",
       " 'عبد الله',\n",
       " 'لطيفة',\n",
       " 'ام سهام',\n",
       " 'محمد',\n",
       " 'كبيرة',\n",
       " 'حبيبة',\n",
       " 'مريم',\n",
       " 'يوسفية',\n",
       " 'جليلة',\n",
       " 'بوشته',\n",
       " 'نهال',\n",
       " 'ام كوثر',\n",
       " 'مينة',\n",
       " 'ام مصعب',\n",
       " 'سعيدة',\n",
       " 'نجاة',\n",
       " 'سمية',\n",
       " 'أسماء',\n",
       " 'ام بسمة',\n",
       " 'حنان',\n",
       " 'وصال',\n",
       " 'ملاك']"
      ]
     },
     "execution_count": 22,
     "metadata": {},
     "output_type": "execute_result"
    }
   ],
   "source": [
    "Names"
   ]
  },
  {
   "cell_type": "code",
   "execution_count": 6,
   "id": "91c0dea1",
   "metadata": {},
   "outputs": [
    {
     "data": {
      "text/plain": [
       "dict_keys(['تاريخ', '1/2', '3/4', '5/6', '7/8', '9/10', '11/12', '13/14', '15/16', '17/18', '19/20', '21/22', '23/24', '25/26', '27/28', '29/30', '31/32', '33/34', '35/36', '37/38', '39/40', '41/42', '43/44', '45/46', '47/48', '49/50', '51/52', '53/54', '55/56', '57/58', '59/60'])"
      ]
     },
     "execution_count": 6,
     "metadata": {},
     "output_type": "execute_result"
    }
   ],
   "source": [
    "mon_dictionnaire.keys()"
   ]
  },
  {
   "cell_type": "code",
   "execution_count": 25,
   "id": "fe923d18",
   "metadata": {},
   "outputs": [
    {
     "name": "stdout",
     "output_type": "stream",
     "text": [
      "1/2\n",
      "-1\n",
      "ملاك\n",
      "3/4\n",
      "0\n",
      "ام سلمى\n",
      "5/6\n",
      "1\n",
      "نادية\n",
      "7/8\n",
      "2\n",
      "علي\n",
      "9/10\n",
      "3\n",
      "عبد المجيد\n",
      "11/12\n",
      "4\n",
      "وجدان\n",
      "13/14\n",
      "5\n",
      " أكرم\n",
      "15/16\n",
      "6\n",
      "شمس\n",
      "17/18\n",
      "7\n",
      "إجلال\n",
      "19/20\n",
      "8\n",
      "عبد الله\n",
      "21/22\n",
      "9\n",
      "لطيفة\n",
      "23/24\n",
      "10\n",
      "ام سهام\n",
      "25/26\n",
      "11\n",
      "محمد\n",
      "27/28\n",
      "12\n",
      "كبيرة\n",
      "29/30\n",
      "13\n",
      "حبيبة\n",
      "31/32\n",
      "14\n",
      "مريم\n",
      "33/34\n",
      "15\n",
      "يوسفية\n",
      "35/36\n",
      "16\n",
      "جليلة\n",
      "37/38\n",
      "17\n",
      "بوشته\n",
      "39/40\n",
      "18\n",
      "نهال\n",
      "41/42\n",
      "19\n",
      "ام كوثر\n",
      "43/44\n",
      "20\n",
      "مينة\n",
      "45/46\n",
      "21\n",
      "ام مصعب\n",
      "47/48\n",
      "22\n",
      "سعيدة\n",
      "49/50\n",
      "23\n",
      "نجاة\n",
      "51/52\n",
      "24\n",
      "سمية\n",
      "53/54\n",
      "25\n",
      "أسماء\n",
      "55/56\n",
      "26\n",
      "ام بسمة\n",
      "57/58\n",
      "27\n",
      "حنان\n",
      "59/60\n",
      "28\n",
      "وصال\n"
     ]
    }
   ],
   "source": [
    "mon_new_dictionnaire = {\"تاريخ\": datetime.now().date()}\n",
    "for i in ahzab:\n",
    "        print(i)\n",
    "        index = Names.index(mon_dictionnaire[i])\n",
    "        if index == 30:\n",
    "            index = 0\n",
    "        else:\n",
    "            index = Names.index(mon_dictionnaire[i]) - 1\n",
    "        if index == 30:\n",
    "            index = 0\n",
    "        print(index)\n",
    "        print(Names[index])\n",
    "        mon_new_dictionnaire[i] = Names[index]"
   ]
  },
  {
   "cell_type": "code",
   "execution_count": null,
   "id": "ec6553f9",
   "metadata": {},
   "outputs": [],
   "source": []
  }
 ],
 "metadata": {
  "kernelspec": {
   "display_name": "Python 3 (ipykernel)",
   "language": "python",
   "name": "python3"
  },
  "language_info": {
   "codemirror_mode": {
    "name": "ipython",
    "version": 3
   },
   "file_extension": ".py",
   "mimetype": "text/x-python",
   "name": "python",
   "nbconvert_exporter": "python",
   "pygments_lexer": "ipython3",
   "version": "3.9.13"
  }
 },
 "nbformat": 4,
 "nbformat_minor": 5
}
